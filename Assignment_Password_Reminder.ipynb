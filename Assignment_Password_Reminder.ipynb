{
  "nbformat": 4,
  "nbformat_minor": 0,
  "metadata": {
    "colab": {
      "name": "Assignment-Password Reminder.ipynb",
      "provenance": [],
      "authorship_tag": "ABX9TyN8pPnZB2EoEp4yz4xBZKVN",
      "include_colab_link": true
    },
    "kernelspec": {
      "name": "python3",
      "display_name": "Python 3"
    },
    "language_info": {
      "name": "python"
    }
  },
  "cells": [
    {
      "cell_type": "markdown",
      "metadata": {
        "id": "view-in-github",
        "colab_type": "text"
      },
      "source": [
        "<a href=\"https://colab.research.google.com/github/hakancar/Python_Assignment-Password-Reminder/blob/main/Assignment_Password_Reminder.ipynb\" target=\"_parent\"><img src=\"https://colab.research.google.com/assets/colab-badge.svg\" alt=\"Open In Colab\"/></a>"
      ]
    },
    {
      "cell_type": "code",
      "metadata": {
        "colab": {
          "base_uri": "https://localhost:8080/"
        },
        "id": "8KhXgsMiMB5g",
        "outputId": "568a91ae-cabb-4a62-c13a-831f7140b439"
      },
      "source": [
        "name = input(\"Please enter your name: \").title()\n",
        "if name == \"Joseph\":\n",
        "  print(\"Hello, Joseph! The password is : W@12\")\n",
        "else:\n",
        "  print(\"Hello, Amina! See you later.\")"
      ],
      "execution_count": 10,
      "outputs": [
        {
          "output_type": "stream",
          "text": [
            "Please enter your name: JoSePh\n",
            "Hello, Joseph! The password is : W@12\n"
          ],
          "name": "stdout"
        }
      ]
    }
  ]
}